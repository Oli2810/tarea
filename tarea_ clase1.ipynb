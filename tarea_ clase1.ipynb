{
 "cells": [
  {
   "cell_type": "code",
   "execution_count": 1,
   "id": "8691a4ab-342c-4f0b-9b41-0da700ab2ad8",
   "metadata": {},
   "outputs": [],
   "source": [
    "nombre = \"palo\"\n",
    "edad = 20 "
   ]
  },
  {
   "cell_type": "code",
   "execution_count": 2,
   "id": "21edd921-d31c-4f5b-b8e0-1bb31cee4292",
   "metadata": {},
   "outputs": [
    {
     "name": "stdout",
     "output_type": "stream",
     "text": [
      "Hola palo tienes 20 años\n"
     ]
    }
   ],
   "source": [
    "print (\"Hola\", nombre, \"tienes\", edad, \"años\")"
   ]
  },
  {
   "cell_type": "code",
   "execution_count": 1,
   "id": "752c0fdf-a053-4d36-8d2a-089308db1a68",
   "metadata": {},
   "outputs": [
    {
     "name": "stdin",
     "output_type": "stream",
     "text": [
      "ingrese un numero:  48\n"
     ]
    },
    {
     "name": "stdout",
     "output_type": "stream",
     "text": [
      "Positivo\n"
     ]
    }
   ],
   "source": [
    "numero_como_cadena = input(\"ingrese un numero: \")#ejercicio n° 2\n",
    "numero = float(numero_como_cadena)\n",
    "if numero == 0:\n",
    "    print(\"Neutro\")\n",
    "elif numero < 0:\n",
    "    print(\"Negativo\")\n",
    "else:\n",
    "    print(\"Positivo\")"
   ]
  },
  {
   "cell_type": "code",
   "execution_count": 2,
   "id": "f50e50e1-6cbf-4877-bbb4-6656349a58f6",
   "metadata": {},
   "outputs": [
    {
     "name": "stdin",
     "output_type": "stream",
     "text": [
      "ingrese un numero -15\n"
     ]
    }
   ],
   "source": [
    "primer_numero=input(\"ingrese un numero\")#ejercicio n° 3"
   ]
  },
  {
   "cell_type": "code",
   "execution_count": 3,
   "id": "4f78e543-8c7c-4bc0-80c5-5be9acaa1969",
   "metadata": {},
   "outputs": [
    {
     "data": {
      "text/plain": [
       "int"
      ]
     },
     "execution_count": 3,
     "metadata": {},
     "output_type": "execute_result"
    }
   ],
   "source": [
    "type(primer_numero)\n",
    "primer_numero=int(primer_numero)\n",
    "type(primer_numero)\n",
    "     "
   ]
  },
  {
   "cell_type": "code",
   "execution_count": 4,
   "id": "0c044cee-f7c1-450d-85b7-6fef1b6f7546",
   "metadata": {},
   "outputs": [
    {
     "name": "stdin",
     "output_type": "stream",
     "text": [
      "ingrese otro numero 23\n"
     ]
    }
   ],
   "source": [
    "segundo_numero=input(\"ingrese otro numero\")"
   ]
  },
  {
   "cell_type": "code",
   "execution_count": 5,
   "id": "21942f98-5574-4cb1-9322-25df7954dd1c",
   "metadata": {},
   "outputs": [
    {
     "data": {
      "text/plain": [
       "int"
      ]
     },
     "execution_count": 5,
     "metadata": {},
     "output_type": "execute_result"
    }
   ],
   "source": [
    "type(segundo_numero)\n",
    "segundo_numero=int(segundo_numero)\n",
    "type(segundo_numero)"
   ]
  },
  {
   "cell_type": "code",
   "execution_count": 6,
   "id": "08d3de18-f607-40d8-b862-b2519f8fddc3",
   "metadata": {},
   "outputs": [
    {
     "name": "stdout",
     "output_type": "stream",
     "text": [
      "23 es mayor que -15\n"
     ]
    }
   ],
   "source": [
    "if primer_numero > segundo_numero:\n",
    "  print(primer_numero,\"es mayor que\",segundo_numero)\n",
    "else:\n",
    "   print(segundo_numero,\"es mayor que\",primer_numero)"
   ]
  },
  {
   "cell_type": "code",
   "execution_count": 7,
   "id": "11c03822-8744-4f43-b908-b2c481164e21",
   "metadata": {},
   "outputs": [
    {
     "name": "stdin",
     "output_type": "stream",
     "text": [
      "ingrese la nota obtenida de 0 a 100: 76\n"
     ]
    }
   ],
   "source": [
    "nota=input(\"ingrese la nota obtenida de 0 a 100:\") #ejercicio n° 4"
   ]
  },
  {
   "cell_type": "code",
   "execution_count": 8,
   "id": "5d9cc35b-aee4-4f01-97f0-9444b02269f0",
   "metadata": {},
   "outputs": [
    {
     "data": {
      "text/plain": [
       "str"
      ]
     },
     "execution_count": 8,
     "metadata": {},
     "output_type": "execute_result"
    }
   ],
   "source": [
    "type (nota)"
   ]
  },
  {
   "cell_type": "code",
   "execution_count": 9,
   "id": "472fe73c-19fa-4cc0-8391-327ee2790867",
   "metadata": {},
   "outputs": [
    {
     "data": {
      "text/plain": [
       "int"
      ]
     },
     "execution_count": 9,
     "metadata": {},
     "output_type": "execute_result"
    }
   ],
   "source": [
    "nota=int(nota)\n",
    "type(nota)"
   ]
  },
  {
   "cell_type": "code",
   "execution_count": 10,
   "id": "bcb72538-29a6-4ef4-b2b4-90b2fc204a28",
   "metadata": {},
   "outputs": [
    {
     "name": "stdout",
     "output_type": "stream",
     "text": [
      "c\n"
     ]
    }
   ],
   "source": [
    "if (nota >=0 and nota <60):\n",
    "  print(\"f\")\n",
    "elif nota >=60 and nota <=69:\n",
    "  print(\"d\")\n",
    "elif nota >=70 and nota <=79:\n",
    "  print(\"c\")\n",
    "elif nota >=80 and nota <=89:\n",
    "  print(\"b\")\n",
    "else:\n",
    "  print(\"a\")"
   ]
  },
  {
   "cell_type": "code",
   "execution_count": null,
   "id": "51573358-9eae-4164-8570-2d0baa8af9ab",
   "metadata": {},
   "outputs": [],
   "source": []
  },
  {
   "cell_type": "code",
   "execution_count": null,
   "id": "3f87f2e6-fcc4-41fb-a9f1-61027fa0721c",
   "metadata": {},
   "outputs": [],
   "source": []
  }
 ],
 "metadata": {
  "kernelspec": {
   "display_name": "Python 3 (ipykernel)",
   "language": "python",
   "name": "python3"
  },
  "language_info": {
   "codemirror_mode": {
    "name": "ipython",
    "version": 3
   },
   "file_extension": ".py",
   "mimetype": "text/x-python",
   "name": "python",
   "nbconvert_exporter": "python",
   "pygments_lexer": "ipython3",
   "version": "3.11.5"
  }
 },
 "nbformat": 4,
 "nbformat_minor": 5
}
